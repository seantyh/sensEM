{
 "cells": [
  {
   "cell_type": "code",
   "execution_count": 1,
   "id": "09007e44-7050-4105-8a55-7be5f179de9f",
   "metadata": {},
   "outputs": [],
   "source": [
    "import sys\n",
    "import os\n",
    "if \"../src\" not in sys.path:\n",
    "    sys.path.append(\"../src\")\n",
    "if \"../../pyASBC/src\" not in sys.path:\n",
    "    sys.path.append(\"../../pyASBC/src\")\n",
    "os.environ[\"TOKENIZERS_PARALLELISM\"] = \"false\""
   ]
  },
  {
   "cell_type": "code",
   "execution_count": 2,
   "id": "7ed99ba2-1200-4054-a779-53f0dd1619f2",
   "metadata": {},
   "outputs": [
    {
     "name": "stderr",
     "output_type": "stream",
     "text": [
      "/home/seantyh/langon/sensEM/etc/../../pyASBC/src/pyASBC/asbc.py:6: TqdmExperimentalWarning: Using `tqdm.autonotebook.tqdm` in notebook mode. Use `tqdm.tqdm` instead to force console mode (e.g. in jupyter console)\n",
      "  from tqdm.autonotebook import tqdm\n"
     ]
    }
   ],
   "source": [
    "import math\n",
    "from pathlib import Path\n",
    "from itertools import islice\n",
    "from pyASBC import Asbc5Corpus\n",
    "from dotted_wsd import DottedWsdTagger\n",
    "from tqdm.auto import tqdm"
   ]
  },
  {
   "cell_type": "code",
   "execution_count": 3,
   "id": "4f2b78f0-7a5d-4af1-a8cb-5c5337b5408c",
   "metadata": {},
   "outputs": [],
   "source": [
    "corpus = Asbc5Corpus(\"../../pyASBC/data\")"
   ]
  },
  {
   "cell_type": "code",
   "execution_count": 4,
   "id": "197be1af-b554-450c-9858-610211ed3c92",
   "metadata": {},
   "outputs": [
    {
     "data": {
      "text/plain": [
       "['時間', '三月', '十日', '星期四', '上午']"
      ]
     },
     "execution_count": 4,
     "metadata": {},
     "output_type": "execute_result"
    }
   ],
   "source": [
    "list(islice(corpus.iter_words(), 0, 5))"
   ]
  },
  {
   "cell_type": "code",
   "execution_count": 5,
   "id": "d5b51b7f-a611-40eb-981d-156c89f6dcc1",
   "metadata": {},
   "outputs": [],
   "source": [
    "tagger = DottedWsdTagger()"
   ]
  },
  {
   "cell_type": "markdown",
   "id": "111d26af-4382-421a-800d-7bdfe6d82001",
   "metadata": {},
   "source": [
    "```\n",
    "n_sentence = sum(1 for _ in corpus.iter_sentences())\n",
    "print(n_sentence)\n",
    "## 1,396,133\n",
    "```"
   ]
  },
  {
   "cell_type": "code",
   "execution_count": 6,
   "id": "52df6d69-7dd5-4cbe-8252-a27919feb623",
   "metadata": {},
   "outputs": [],
   "source": [
    "n_sentence = 1_396_133"
   ]
  },
  {
   "cell_type": "code",
   "execution_count": 7,
   "id": "472ce927-a2f0-4c65-b8e3-7ec4c79c3703",
   "metadata": {},
   "outputs": [],
   "source": [
    "tok_func = lambda x: (x[0], x[1])\n",
    "tagged_func = lambda x: (*x[:2], *parse_prediction(x[2]))\n",
    "    \n",
    "def parse_prediction(pred_str: str):\n",
    "    fields = pred_str.split(\" \")\n",
    "    if len(fields) == 3:\n",
    "        return fields[0][1:-1], fields[1], fields[2][1:-1]\n",
    "    else:\n",
    "        return (\"\", \"\", \"\")\n"
   ]
  },
  {
   "cell_type": "markdown",
   "id": "389cb513-25a6-4913-a1e8-d5e83552b280",
   "metadata": {},
   "source": [
    "## Debug on one sentence"
   ]
  },
  {
   "cell_type": "code",
   "execution_count": 8,
   "id": "03504521-800c-4890-9250-7b4bb1e2f990",
   "metadata": {},
   "outputs": [
    {
     "data": {
      "text/plain": [
       "[('與', 'P', ''),\n",
       " ('美國', 'Nc', ''),\n",
       " ('大學', 'Nc', ''),\n",
       " ('聯繫', 'VC', ''),\n",
       " ('商討', 'VE', ''),\n",
       " ('長期', 'Nd', ''),\n",
       " ('合作', 'VH', ''),\n",
       " ('事宜', 'Na', ''),\n",
       " ('，', 'COMMACATEGORY', '')]"
      ]
     },
     "execution_count": 8,
     "metadata": {},
     "output_type": "execute_result"
    }
   ],
   "source": [
    "sent_t = list(islice(corpus.iter_sentences(), 10, 11))[0]\n",
    "sent_t"
   ]
  },
  {
   "cell_type": "code",
   "execution_count": 9,
   "id": "2ad60ac8-6a6d-4df9-aaa4-3db7599b95f4",
   "metadata": {},
   "outputs": [
    {
     "name": "stdout",
     "output_type": "stream",
     "text": [
      "[('與', 'P', '04001305', '引介共同做事的對象。', '0.5112'), ('美國', 'Nc', '06681801', '國名，北美洲中部的國家，位於加拿大、墨西哥之間，共有五十州。', '0.9446'), ('大學', 'Nc', '06587001', '學校系統中最高等級，授予學位的學校。', '0.9890'), ('聯繫', 'VC', '', '', ''), ('商討', 'VE', '', '', ''), ('長期', 'Nd', '09290701', '一段長時間。', '1.0000'), ('合作', 'VH', '06639101', '形容兩個以上特定對象互相配合做特定事件，以達成特定目標。', '1.0000'), ('事宜', 'Na', '', '', ''), ('，', 'COMMACATEGORY', '', '', '')]\n"
     ]
    }
   ],
   "source": [
    "tok_seq_t = list(map(tok_func, sent_t))\n",
    "sense_tagged_t = tagger.sense_tag_per_sentence(tok_seq_t)\n",
    "sense_tagged_t = list(map(tagged_func, sense_tagged_t))\n",
    "print(sense_tagged_t)"
   ]
  },
  {
   "cell_type": "markdown",
   "id": "9a462a33-e57b-4e3c-854f-503270177278",
   "metadata": {},
   "source": [
    "## Main loop"
   ]
  },
  {
   "cell_type": "code",
   "execution_count": 10,
   "id": "ae7c5855-eeea-4c85-88d1-487b528ed5d9",
   "metadata": {},
   "outputs": [],
   "source": [
    "out_dir = Path(\"../data/dt-asbc\")\n",
    "out_dir.mkdir(exist_ok=True, parents=True)"
   ]
  },
  {
   "cell_type": "code",
   "execution_count": null,
   "id": "106891ac-2c68-4b56-99da-d3bd996b42ec",
   "metadata": {},
   "outputs": [
    {
     "data": {
      "application/vnd.jupyter.widget-view+json": {
       "model_id": "595cd776597a4c619130b53b83430170",
       "version_major": 2,
       "version_minor": 0
      },
      "text/plain": [
       "  0%|          | 0/1396133 [00:00<?, ?it/s]"
      ]
     },
     "metadata": {},
     "output_type": "display_data"
    }
   ],
   "source": [
    "batch_size = 10_000\n",
    "# batch_size = 20\n",
    "batch_idx = 0\n",
    "n_batch = math.ceil(n_sentence / batch_size)\n",
    "path_templ = f\"asbc_dotted_tagged_{{batch_idx:03d}}-of-{n_batch}.txt\"\n",
    "batch_path = out_dir / path_templ.format(batch_idx=batch_idx)\n",
    "if not batch_path.exists():\n",
    "    fout = batch_path.open(\"w\", encoding=\"utf-8\")\n",
    "else:\n",
    "    fout = None\n",
    "\n",
    "for sent_i, sent_x in enumerate(tqdm(corpus.iter_sentences(), total=n_sentence)):\n",
    "    ## if file already exists, fout is None, \n",
    "    ## then skip the tagging part\n",
    "    if fout:\n",
    "        ## tagging\n",
    "        try:\n",
    "            tok_seq = list(map(tok_func, sent_x))\n",
    "            sense_tagged = tagger.sense_tag_per_sentence(tok_seq)\n",
    "            sense_tagged = list(map(tagged_func, sense_tagged))\n",
    "            for tok_i, tagged_tok in enumerate(sense_tagged):\n",
    "                if tagged_tok[2] and not tagged_tok[2].startswith(\"RP:\"):\n",
    "                    # it is tagged\n",
    "                    fout.write(f\"{tagged_tok[0]}-{tagged_tok[2]}\")\n",
    "                else:\n",
    "                    # it is not tagged\n",
    "                    fout.write(f\"{tagged_tok[0]}-{tagged_tok[1]}\")\n",
    "                if tok_i < len(sense_tagged)-1:\n",
    "                    fout.write(\" \")\n",
    "            fout.write(\"\\n\")\n",
    "        except Exception as ex:\n",
    "            print(ex)\n",
    "    \n",
    "    if (sent_i+1) % batch_size == 0:\n",
    "        if fout: fout.close()\n",
    "        batch_idx += 1\n",
    "        \n",
    "        if batch_idx > 6:\n",
    "            break                    \n",
    "        batch_path = out_dir / path_templ.format(batch_idx=batch_idx)\n",
    "        if not batch_path.exists():\n",
    "            fout = Path(batch_path).open(\"w\", encoding=\"utf-8\")\n",
    "        else:\n",
    "            fout = None\n",
    "\n",
    "if fout:\n",
    "    fout.close()"
   ]
  },
  {
   "cell_type": "code",
   "execution_count": null,
   "id": "da89cf03-6617-4178-b862-b7342ff3ee1d",
   "metadata": {},
   "outputs": [],
   "source": [
    "!sha1sum ../data/dt-asbc/*.txt"
   ]
  },
  {
   "cell_type": "code",
   "execution_count": null,
   "id": "4e1ddb9d-dc54-4485-8bf3-13912d96b93f",
   "metadata": {},
   "outputs": [],
   "source": []
  }
 ],
 "metadata": {
  "kernelspec": {
   "display_name": "Python 3 (ipykernel)",
   "language": "python",
   "name": "python3"
  },
  "language_info": {
   "codemirror_mode": {
    "name": "ipython",
    "version": 3
   },
   "file_extension": ".py",
   "mimetype": "text/x-python",
   "name": "python",
   "nbconvert_exporter": "python",
   "pygments_lexer": "ipython3",
   "version": "3.9.5"
  }
 },
 "nbformat": 4,
 "nbformat_minor": 5
}
