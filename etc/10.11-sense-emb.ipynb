{
 "cells": [
  {
   "cell_type": "markdown",
   "id": "56b9eeff-2a52-4240-a1f5-6dc980c30163",
   "metadata": {},
   "source": [
    "## Train sense emb"
   ]
  },
  {
   "cell_type": "code",
   "execution_count": 1,
   "id": "63ffb53d-28ba-44d3-897a-ed26b5ca0065",
   "metadata": {},
   "outputs": [],
   "source": [
    "from pathlib import Path\n",
    "class TaggedCorpusIter:\n",
    "    def __init__(self, base_dir):\n",
    "        self.base_dir = Path(base_dir)\n",
    "    \n",
    "    def __iter__(self):\n",
    "        for file_x in self.base_dir.glob(\"*.txt\"):            \n",
    "            fin = file_x.open(\"r\", encoding=\"UTF-8\")\n",
    "            for ln in fin:\n",
    "                yield ln.strip().split()            \n",
    "            fin.close()            "
   ]
  },
  {
   "cell_type": "code",
   "execution_count": 2,
   "id": "51cbeebe-f6c3-4dee-aeae-bbb21ca1ea45",
   "metadata": {},
   "outputs": [],
   "source": [
    "from itertools import islice\n",
    "tag_iter = TaggedCorpusIter(\"../data/dt-asbc/\")"
   ]
  },
  {
   "cell_type": "code",
   "execution_count": 3,
   "id": "0ad2bcce-6f03-4c97-8796-93e648d51752",
   "metadata": {},
   "outputs": [
    {
     "name": "stdout",
     "output_type": "stream",
     "text": [
      "CPU times: user 5min 43s, sys: 2.43 s, total: 5min 46s\n",
      "Wall time: 1min\n"
     ]
    }
   ],
   "source": [
    "%%time\n",
    "from gensim.models import Word2Vec\n",
    "model = Word2Vec(sentences=tag_iter, vector_size=200, window=5, \n",
    "                 min_count=3, workers=8, sg=1, epochs=5)"
   ]
  },
  {
   "cell_type": "code",
   "execution_count": 4,
   "id": "f309a730-4349-4829-8dad-e9a8699d5440",
   "metadata": {},
   "outputs": [],
   "source": [
    "model.wv.save_word2vec_format(\"../data/dt-asbc.word2vec.kv.bin\", binary=True)"
   ]
  },
  {
   "cell_type": "code",
   "execution_count": 5,
   "id": "0b3933cf-4bca-4d7b-b4a5-0836dd6677bb",
   "metadata": {},
   "outputs": [
    {
     "name": "stdout",
     "output_type": "stream",
     "text": [
      "../data/dt-asbc.word2vec.kv.bin\t45e6e2\n"
     ]
    }
   ],
   "source": [
    "from pathlib import Path\n",
    "import hashlib\n",
    "paths = [\"../data/dt-asbc.word2vec.kv.bin\"]\n",
    "for path_x in paths:\n",
    "    h = hashlib.sha1()\n",
    "    h.update(Path(path_x).read_bytes())\n",
    "    print(path_x, h.hexdigest()[:6], sep=\"\\t\")"
   ]
  },
  {
   "cell_type": "markdown",
   "id": "4d089ad5-f586-4e2c-aa05-3ee97a1beaae",
   "metadata": {},
   "source": [
    "## KeyedVectors"
   ]
  },
  {
   "cell_type": "code",
   "execution_count": 6,
   "id": "3feabdc1-0a9a-4771-ae7d-e861db7898e3",
   "metadata": {},
   "outputs": [],
   "source": [
    "%load_ext autoreload\n",
    "%autoreload 2"
   ]
  },
  {
   "cell_type": "code",
   "execution_count": 7,
   "id": "e0f89ea8-3173-4eee-ac19-1c672483f303",
   "metadata": {},
   "outputs": [],
   "source": [
    "import sys\n",
    "if \"../src\" not in sys.path:\n",
    "    sys.path.append(\"../src\")"
   ]
  },
  {
   "cell_type": "code",
   "execution_count": 8,
   "id": "18e4781f-ee02-4942-b7ba-10edd807cd16",
   "metadata": {},
   "outputs": [],
   "source": [
    "from sensEM import SenseKeyedVectors"
   ]
  },
  {
   "cell_type": "code",
   "execution_count": 9,
   "id": "5e306594-700c-4234-8b43-bbcaf6451b26",
   "metadata": {},
   "outputs": [],
   "source": [
    "kv = SenseKeyedVectors.load_from_kv(\"../data/dt-asbc.word2vec.kv.bin\")"
   ]
  },
  {
   "cell_type": "code",
   "execution_count": 10,
   "id": "737a0dd5-b302-404a-85be-0a02b5ba7e1a",
   "metadata": {},
   "outputs": [
    {
     "data": {
      "text/plain": [
       "{'便宜(06763501) f= 110742: 形容物品價錢比預期低。)': [('貴', 0.8054711222648621),\n",
       "  ('經濟', 0.7892798781394958),\n",
       "  ('划算', 0.7595694065093994),\n",
       "  ('貴上', 0.7516638040542603),\n",
       "  ('低廉', 0.7478659152984619),\n",
       "  ('價錢', 0.7245354652404785),\n",
       "  ('昂貴', 0.7211244106292725),\n",
       "  ('免稅店', 0.7169173955917358),\n",
       "  ('外帶', 0.7143236398696899),\n",
       "  ('地攤貨', 0.7070028185844421)],\n",
       " '便宜(06763502) f= 77884: 用比預期低的價錢所完成的交易買賣。)': [('賣乖', 0.8740313053131104),\n",
       "  ('心軟', 0.8577039241790771),\n",
       "  ('奈何', 0.8567598462104797),\n",
       "  ('動不了', 0.854430615901947),\n",
       "  ('雞皮疙瘩', 0.8543466925621033),\n",
       "  ('要不', 0.8538295030593872),\n",
       "  ('冷', 0.852941632270813),\n",
       "  ('一文不值', 0.8529177904129028),\n",
       "  ('承受不了', 0.8526293635368347),\n",
       "  ('猜錯', 0.8518838882446289)],\n",
       " '便宜(06763503) f= 86647: 使物品價錢降低。)': [('貴', 0.9088633060455322),\n",
       "  ('零售價', 0.9056693315505981),\n",
       "  ('掉', 0.8955847024917603),\n",
       "  ('三０％', 0.8921447396278381),\n",
       "  ('進口量', 0.8917911648750305),\n",
       "  ('４０萬', 0.8882931470870972),\n",
       "  ('九％', 0.8878161311149597),\n",
       "  ('２萬', 0.8859727382659912),\n",
       "  ('８０萬', 0.8848020434379578),\n",
       "  ('百分之四', 0.8841278553009033)],\n",
       " '便宜(06763504) f= 67960: 使後述對象得到原本不屬於自己的好處。)': [('帥', 0.8870915770530701),\n",
       "  ('管不著', 0.8827022910118103),\n",
       "  ('看錯', 0.8827018737792969),\n",
       "  ('死定', 0.8811876773834229),\n",
       "  ('累壞', 0.8776472806930542),\n",
       "  ('不像話', 0.8763872385025024),\n",
       "  ('小瞧', 0.8759028911590576),\n",
       "  ('傻', 0.8751298785209656),\n",
       "  ('網', 0.8735665678977966),\n",
       "  ('沒法度', 0.8723110556602478)],\n",
       " '便宜(06763505) f= 58929: 原本不屬於自己的好處。)': [('一無是處', 0.9144342541694641),\n",
       "  ('自傲', 0.9043439626693726),\n",
       "  ('死皮賴臉', 0.9034389853477478),\n",
       "  ('管不著', 0.9029691219329834),\n",
       "  ('當', 0.9028699994087219),\n",
       "  ('說話', 0.900469183921814),\n",
       "  ('沒出息', 0.8998848795890808),\n",
       "  ('看錯', 0.8990186452865601),\n",
       "  ('臭美', 0.8987361788749695),\n",
       "  ('拿', 0.897871196269989)],\n",
       " '便宜(07022701) f= 50451: 形容容易達到使用目的。)': [('表格化', 0.8859704732894897),\n",
       "  ('指導性', 0.8834059834480286),\n",
       "  ('理論化', 0.8813911080360413),\n",
       "  ('收取', 0.8810064196586609),\n",
       "  ('添增', 0.8804709911346436),\n",
       "  ('塑膠瓶', 0.8793082237243652),\n",
       "  ('臨機應變', 0.879239022731781),\n",
       "  ('易事', 0.8786218762397766),\n",
       "  ('除污', 0.8771240711212158),\n",
       "  ('獎勵性', 0.8758224248886108)]}"
      ]
     },
     "execution_count": 10,
     "metadata": {},
     "output_type": "execute_result"
    }
   ],
   "source": [
    "kv.show_neighbors_bysenses(\"便宜\")"
   ]
  },
  {
   "cell_type": "code",
   "execution_count": null,
   "id": "38678b00-1fe7-447e-866b-fe2e53d432dd",
   "metadata": {},
   "outputs": [],
   "source": []
  }
 ],
 "metadata": {
  "kernelspec": {
   "display_name": "Python 3 (ipykernel)",
   "language": "python",
   "name": "python3"
  },
  "language_info": {
   "codemirror_mode": {
    "name": "ipython",
    "version": 3
   },
   "file_extension": ".py",
   "mimetype": "text/x-python",
   "name": "python",
   "nbconvert_exporter": "python",
   "pygments_lexer": "ipython3",
   "version": "3.9.5"
  }
 },
 "nbformat": 4,
 "nbformat_minor": 5
}
